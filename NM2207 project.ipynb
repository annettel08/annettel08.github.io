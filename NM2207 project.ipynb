{
  "cells": [
    {
      "cell_type": "raw",
      "metadata": {},
      "source": [
        "---\n",
        "title: \"<span style='font-family: Lemon Milk, sans-serif; color: #102828;'>NM2207</span>\"\n",
        "---"
      ],
      "id": "a8e0ac54"
    },
    {
      "cell_type": "markdown",
      "metadata": {},
      "source": [
        "::: {style=\"text-align: right;\"}\n",
        "```         \n",
        "Link to my NM2207 repository: <a href=\"https://github.com/annettel08/NM2207\">https://github.com/annettel08/NM2207</a>\n",
        "```\n",
        ":::\n",
        "\n",
        "------------------------------------------------------------------------\n",
        "\n",
        "Title: \"Navigating the Singaporean Dream: Exploring Rising Costs of Living, Income Disparities, and Educational Meritocracy\"\n",
        "\n",
        "Singapore's transformation into a global economic powerhouse is undeniable. But beneath the shining skyscrapers and bustling streets lies a crucial question: How are the people of Singapore faring in this era of rising living costs?\n",
        "\n",
        "In this data story, we embark on a journey through numbers and trends, exploring the impact of increasing Consumer Price Index (CPI) on the real wages of Singaporeans. We'll dissect the data to reveal how different income groups are navigating these economic shifts, and we'll delve into the role of education in shaping individuals' financial resilience.\n",
        "\n",
        "Join me as I uncover the story behind Singapore's evolving living standards, one dataset at a time.\n"
      ],
      "id": "881e9fbc"
    },
    {
      "cell_type": "code",
      "metadata": {},
      "source": [
        "<iframe src=\"https://annettel08.shinyapps.io/CPI_trends/\" height=\"400\" width=\"100%\" frameborder=\"no\"></iframe>"
      ],
      "id": "70a26026",
      "execution_count": null,
      "outputs": []
    }
  ],
  "metadata": {
    "kernelspec": {
      "name": "python3",
      "language": "python",
      "display_name": "Python 3 (ipykernel)"
    }
  },
  "nbformat": 4,
  "nbformat_minor": 5
}